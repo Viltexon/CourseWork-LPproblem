{
  "nbformat": 4,
  "nbformat_minor": 0,
  "metadata": {
    "colab": {
      "name": "MSI_ind.ipynb",
      "provenance": [],
      "collapsed_sections": []
    },
    "kernelspec": {
      "name": "python3",
      "display_name": "Python 3"
    },
    "language_info": {
      "name": "python"
    }
  },
  "cells": [
    {
      "cell_type": "code",
      "metadata": {
        "id": "Vza1dktBDR46"
      },
      "source": [
        "###### conditions\n",
        "task_conditions = [\n",
        "              [20, ['вітання']],\n",
        "              [40, ['вітання','людство','еволюція']],\n",
        "              [70, ['еволюція','людство','штучний інтелект','трансгуманізм']],\n",
        "              [60, ['рослини','вертикальні ферми','роботи','штучний інтелект']],\n",
        "              [50, ['еволюція','рослини','одомашнення']],\n",
        "              [40, ['роботи','штучний інтелект']],\n",
        "              [50, ['рослини']],\n",
        "              [70, ['людство','роботи','питання']],\n",
        "              [60, ['питання']],\n",
        "]\n",
        "\n",
        "goal = ['вітання','еволюція','рослини','роботи','питання']"
      ],
      "execution_count": 1,
      "outputs": []
    },
    {
      "cell_type": "code",
      "metadata": {
        "id": "rtAT99qBM4xa"
      },
      "source": [
        "###### h(n) - heuristic function\n",
        "def h_func(node_themes, conditions):\n",
        "  tmp_min = 0\n",
        "  for seg in conditions:\n",
        "    if seg[0]>tmp_min: tmp_min = seg[0]\n",
        "  tmp_theme = 'error'\n",
        "\n",
        "  for node_theme in node_themes:\n",
        "    for seg in conditions:\n",
        "      for theme in seg[1]:\n",
        "        if node_theme==theme and tmp_min>seg[0]:\n",
        "          tmp_min = seg[0]\n",
        "          tmp_theme = theme\n",
        "  \n",
        "  return tmp_min, tmp_theme\n"
      ],
      "execution_count": 2,
      "outputs": []
    },
    {
      "cell_type": "code",
      "metadata": {
        "id": "l6R2zYmbM7ZE"
      },
      "source": [
        "###### unfold node\n",
        "def unfold(node, conditions):\n",
        "  periphery = []\n",
        "  tmp_min, tmp_theme = h_func(node[0], conditions)\n",
        "\n",
        "  for seg in conditions:\n",
        "    for theme in seg[1]: \n",
        "      if tmp_theme==theme:\n",
        "        tmp_node = [[],[]]\n",
        "        tmp_node[0] = list(set(node[0])-set(seg[1]))\n",
        "        tmp_node[1] = node[1] + [conditions.index(seg)]\n",
        "        periphery.append(tmp_node)\n",
        "\n",
        "  # for i in range(len(conditions)):\n",
        "  #   for theme in conditions[i][1]: \n",
        "  #     if tmp_theme==theme:\n",
        "  #       tmp_node = [[],[]]\n",
        "  #       tmp_node[0] = list(set(node[0])-set(conditions[i][1]))\n",
        "  #       tmp_node[1] = node[1] + [i]\n",
        "  #       periphery.append(tmp_node)\n",
        "\n",
        "  return periphery"
      ],
      "execution_count": 3,
      "outputs": []
    },
    {
      "cell_type": "code",
      "metadata": {
        "id": "SjzJN4w2dwc4"
      },
      "source": [
        "###### count total time for node\n",
        "def count_time(node, conditions):\n",
        "  tmp_time = 0\n",
        "  for seg in node[1]:\n",
        "    tmp_time = tmp_time + conditions[seg][0]\n",
        "  return tmp_time"
      ],
      "execution_count": 4,
      "outputs": []
    },
    {
      "cell_type": "code",
      "metadata": {
        "id": "c8fYlClOSzWr"
      },
      "source": [
        "###### main solver\n",
        "def solve_task(goal, conditions):\n",
        "  tmp_node = [goal,[]]\n",
        "  periphery = []\n",
        "  while tmp_node[0]:\n",
        "    tmp_time = sum([task_conditions[i][0] for i in range(len(task_conditions))])\n",
        "    periphery = periphery + unfold(tmp_node, conditions)\n",
        "    for node in periphery:\n",
        "      node_time = count_time(node, conditions)\n",
        "\n",
        "      if node_time < tmp_time:\n",
        "        tmp_time = node_time\n",
        "        tmp_node = node\n",
        "      \n",
        "    periphery.remove(tmp_node)\n",
        "  \n",
        "  return tmp_node\n",
        "  "
      ],
      "execution_count": 5,
      "outputs": []
    },
    {
      "cell_type": "code",
      "metadata": {
        "colab": {
          "base_uri": "https://localhost:8080/"
        },
        "id": "o9m8ehElXhG_",
        "outputId": "1d007504-8475-4bef-f34e-cd61126c6601"
      },
      "source": [
        "result = solve_task(goal, task_conditions)\n",
        "print(\"Final node: \", result)\n",
        "for seg in result[1]:\n",
        "  print(\"seg\", seg, \": \", task_conditions[seg])\n",
        "print(\"Presentation time:\", count_time(result, task_conditions))"
      ],
      "execution_count": 6,
      "outputs": [
        {
          "output_type": "stream",
          "text": [
            "Final node:  [[], [0, 7, 4]]\n",
            "seg 0 :  [20, ['вітання']]\n",
            "seg 7 :  [70, ['людство', 'роботи', 'питання']]\n",
            "seg 4 :  [50, ['еволюція', 'рослини', 'одомашнення']]\n",
            "Presentation time: 140\n"
          ],
          "name": "stdout"
        }
      ]
    },
    {
      "cell_type": "code",
      "metadata": {
        "id": "uDJ_L6u6dCnA"
      },
      "source": [
        ""
      ],
      "execution_count": 6,
      "outputs": []
    }
  ]
}